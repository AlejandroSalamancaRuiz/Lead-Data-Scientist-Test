{
 "cells": [
  {
   "cell_type": "code",
   "execution_count": 1,
   "metadata": {},
   "outputs": [],
   "source": [
    "from custom_network import Config, CustomDataModule, Custom_Network, LightningModel\n",
    "from sklearn.preprocessing import StandardScaler\n",
    "import pandas as pd\n",
    "from sklearn.model_selection import train_test_split\n",
    "import pytorch_lightning as pl\n",
    "import matplotlib.pyplot as plt\n",
    "import numpy as np\n",
    "\n",
    "\n",
    "# Function to plot the confusion matrix\n",
    "def plot_confusion_matrix(matrix, labels):\n",
    "    fig, ax = plt.subplots()\n",
    "    im = ax.imshow(matrix, cmap='Blues')\n",
    "\n",
    "    ax.set_xticks(np.arange(len(labels)))\n",
    "    ax.set_yticks(np.arange(len(labels)))\n",
    "\n",
    "    ax.set_xticklabels(labels)\n",
    "    ax.set_yticklabels(labels)\n",
    "\n",
    "    plt.setp(ax.get_xticklabels(), rotation=45, ha=\"right\", rotation_mode=\"anchor\")\n",
    "\n",
    "    for i in range(len(labels)):\n",
    "        for j in range(len(labels)):\n",
    "            text = ax.text(j, i, matrix[i, j], ha=\"center\", va=\"center\", color=\"black\")\n",
    "\n",
    "    ax.set_title(\"Confusion Matrix\")\n",
    "    ax.set_xlabel('Predicted Labels')\n",
    "    ax.set_ylabel('True Labels')\n",
    "\n",
    "    fig.tight_layout()\n",
    "    plt.show()"
   ]
  },
  {
   "cell_type": "code",
   "execution_count": 2,
   "metadata": {},
   "outputs": [
    {
     "data": {
      "text/html": [
       "<div>\n",
       "<style scoped>\n",
       "    .dataframe tbody tr th:only-of-type {\n",
       "        vertical-align: middle;\n",
       "    }\n",
       "\n",
       "    .dataframe tbody tr th {\n",
       "        vertical-align: top;\n",
       "    }\n",
       "\n",
       "    .dataframe thead th {\n",
       "        text-align: right;\n",
       "    }\n",
       "</style>\n",
       "<table border=\"1\" class=\"dataframe\">\n",
       "  <thead>\n",
       "    <tr style=\"text-align: right;\">\n",
       "      <th></th>\n",
       "      <th>Age</th>\n",
       "      <th>Number of Children</th>\n",
       "      <th>Income</th>\n",
       "      <th>Marital Status_Divorced</th>\n",
       "      <th>Marital Status_Married</th>\n",
       "      <th>Marital Status_Single</th>\n",
       "      <th>Marital Status_Widowed</th>\n",
       "      <th>Education Level_Associate Degree</th>\n",
       "      <th>Education Level_Bachelor's Degree</th>\n",
       "      <th>Education Level_High School</th>\n",
       "      <th>...</th>\n",
       "      <th>Dietary Habits_Healthy</th>\n",
       "      <th>Dietary Habits_Moderate</th>\n",
       "      <th>Dietary Habits_Unhealthy</th>\n",
       "      <th>Sleep Patterns_Fair</th>\n",
       "      <th>Sleep Patterns_Good</th>\n",
       "      <th>Sleep Patterns_Poor</th>\n",
       "      <th>History of Mental Illness_Yes</th>\n",
       "      <th>History of Substance Abuse_Yes</th>\n",
       "      <th>Family History of Depression_Yes</th>\n",
       "      <th>Chronic Medical Conditions_Yes</th>\n",
       "    </tr>\n",
       "  </thead>\n",
       "  <tbody>\n",
       "    <tr>\n",
       "      <th>0</th>\n",
       "      <td>0.31</td>\n",
       "      <td>0.50</td>\n",
       "      <td>-1.247101</td>\n",
       "      <td>0</td>\n",
       "      <td>1</td>\n",
       "      <td>0</td>\n",
       "      <td>0</td>\n",
       "      <td>0</td>\n",
       "      <td>1</td>\n",
       "      <td>0</td>\n",
       "      <td>...</td>\n",
       "      <td>0</td>\n",
       "      <td>1</td>\n",
       "      <td>0</td>\n",
       "      <td>1</td>\n",
       "      <td>0</td>\n",
       "      <td>0</td>\n",
       "      <td>1</td>\n",
       "      <td>0</td>\n",
       "      <td>1</td>\n",
       "      <td>1</td>\n",
       "    </tr>\n",
       "    <tr>\n",
       "      <th>1</th>\n",
       "      <td>0.55</td>\n",
       "      <td>0.25</td>\n",
       "      <td>-1.247091</td>\n",
       "      <td>0</td>\n",
       "      <td>1</td>\n",
       "      <td>0</td>\n",
       "      <td>0</td>\n",
       "      <td>0</td>\n",
       "      <td>0</td>\n",
       "      <td>1</td>\n",
       "      <td>...</td>\n",
       "      <td>0</td>\n",
       "      <td>0</td>\n",
       "      <td>1</td>\n",
       "      <td>1</td>\n",
       "      <td>0</td>\n",
       "      <td>0</td>\n",
       "      <td>1</td>\n",
       "      <td>0</td>\n",
       "      <td>0</td>\n",
       "      <td>1</td>\n",
       "    </tr>\n",
       "    <tr>\n",
       "      <th>2</th>\n",
       "      <td>0.78</td>\n",
       "      <td>0.25</td>\n",
       "      <td>-1.247041</td>\n",
       "      <td>0</td>\n",
       "      <td>0</td>\n",
       "      <td>0</td>\n",
       "      <td>1</td>\n",
       "      <td>0</td>\n",
       "      <td>0</td>\n",
       "      <td>0</td>\n",
       "      <td>...</td>\n",
       "      <td>0</td>\n",
       "      <td>0</td>\n",
       "      <td>1</td>\n",
       "      <td>0</td>\n",
       "      <td>1</td>\n",
       "      <td>0</td>\n",
       "      <td>0</td>\n",
       "      <td>0</td>\n",
       "      <td>1</td>\n",
       "      <td>0</td>\n",
       "    </tr>\n",
       "    <tr>\n",
       "      <th>3</th>\n",
       "      <td>0.58</td>\n",
       "      <td>0.75</td>\n",
       "      <td>-1.247111</td>\n",
       "      <td>1</td>\n",
       "      <td>0</td>\n",
       "      <td>0</td>\n",
       "      <td>0</td>\n",
       "      <td>0</td>\n",
       "      <td>0</td>\n",
       "      <td>0</td>\n",
       "      <td>...</td>\n",
       "      <td>0</td>\n",
       "      <td>1</td>\n",
       "      <td>0</td>\n",
       "      <td>0</td>\n",
       "      <td>0</td>\n",
       "      <td>1</td>\n",
       "      <td>0</td>\n",
       "      <td>0</td>\n",
       "      <td>0</td>\n",
       "      <td>0</td>\n",
       "    </tr>\n",
       "    <tr>\n",
       "      <th>4</th>\n",
       "      <td>0.18</td>\n",
       "      <td>0.00</td>\n",
       "      <td>-1.247112</td>\n",
       "      <td>0</td>\n",
       "      <td>0</td>\n",
       "      <td>1</td>\n",
       "      <td>0</td>\n",
       "      <td>0</td>\n",
       "      <td>0</td>\n",
       "      <td>1</td>\n",
       "      <td>...</td>\n",
       "      <td>0</td>\n",
       "      <td>1</td>\n",
       "      <td>0</td>\n",
       "      <td>1</td>\n",
       "      <td>0</td>\n",
       "      <td>0</td>\n",
       "      <td>1</td>\n",
       "      <td>0</td>\n",
       "      <td>1</td>\n",
       "      <td>1</td>\n",
       "    </tr>\n",
       "  </tbody>\n",
       "</table>\n",
       "<p>5 rows × 33 columns</p>\n",
       "</div>"
      ],
      "text/plain": [
       "    Age  Number of Children    Income  Marital Status_Divorced  \\\n",
       "0  0.31                0.50 -1.247101                        0   \n",
       "1  0.55                0.25 -1.247091                        0   \n",
       "2  0.78                0.25 -1.247041                        0   \n",
       "3  0.58                0.75 -1.247111                        1   \n",
       "4  0.18                0.00 -1.247112                        0   \n",
       "\n",
       "   Marital Status_Married  Marital Status_Single  Marital Status_Widowed  \\\n",
       "0                       1                      0                       0   \n",
       "1                       1                      0                       0   \n",
       "2                       0                      0                       1   \n",
       "3                       0                      0                       0   \n",
       "4                       0                      1                       0   \n",
       "\n",
       "   Education Level_Associate Degree  Education Level_Bachelor's Degree  \\\n",
       "0                                 0                                  1   \n",
       "1                                 0                                  0   \n",
       "2                                 0                                  0   \n",
       "3                                 0                                  0   \n",
       "4                                 0                                  0   \n",
       "\n",
       "   Education Level_High School  ...  Dietary Habits_Healthy  \\\n",
       "0                            0  ...                       0   \n",
       "1                            1  ...                       0   \n",
       "2                            0  ...                       0   \n",
       "3                            0  ...                       0   \n",
       "4                            1  ...                       0   \n",
       "\n",
       "   Dietary Habits_Moderate  Dietary Habits_Unhealthy  Sleep Patterns_Fair  \\\n",
       "0                        1                         0                    1   \n",
       "1                        0                         1                    1   \n",
       "2                        0                         1                    0   \n",
       "3                        1                         0                    0   \n",
       "4                        1                         0                    1   \n",
       "\n",
       "   Sleep Patterns_Good  Sleep Patterns_Poor  History of Mental Illness_Yes  \\\n",
       "0                    0                    0                              1   \n",
       "1                    0                    0                              1   \n",
       "2                    1                    0                              0   \n",
       "3                    0                    1                              0   \n",
       "4                    0                    0                              1   \n",
       "\n",
       "   History of Substance Abuse_Yes  Family History of Depression_Yes  \\\n",
       "0                               0                                 1   \n",
       "1                               0                                 0   \n",
       "2                               0                                 1   \n",
       "3                               0                                 0   \n",
       "4                               0                                 1   \n",
       "\n",
       "   Chronic Medical Conditions_Yes  \n",
       "0                               1  \n",
       "1                               1  \n",
       "2                               0  \n",
       "3                               0  \n",
       "4                               1  \n",
       "\n",
       "[5 rows x 33 columns]"
      ]
     },
     "execution_count": 2,
     "metadata": {},
     "output_type": "execute_result"
    }
   ],
   "source": [
    "# Random seed\n",
    "rs = 42\n",
    "\n",
    "df = pd. read_csv('depression_data.csv')\n",
    "# Drop name column\n",
    "df.drop(columns='Name', inplace=True)\n",
    "\n",
    "# Identify categorical columns (object dtype)\n",
    "categorical_columns = df.select_dtypes(include=['object']).columns.tolist()\n",
    "\n",
    "# One-hot encode categorical variables\n",
    "df_encoded = pd.get_dummies(df, columns=categorical_columns)\n",
    "\n",
    "# Remove redundant columns\n",
    "no_columns = [col for col in df_encoded.columns.tolist() if col.endswith('_No')]\n",
    "df_reduced = df_encoded.drop(columns=no_columns)\n",
    "\n",
    "# Normalize the Age and Number of Children columns\n",
    "df_reduced['Age'] = df_reduced['Age'] / 100\n",
    "df_reduced['Number of Children'] = df_reduced['Number of Children'] / 4\n",
    "\n",
    "# Initialize the scaler\n",
    "scaler = StandardScaler()\n",
    "\n",
    "# Fit the scaler on the training data's Income column\n",
    "scaler.fit(df_reduced[['Income']])\n",
    "\n",
    "# Transform the Income column in both training and test sets\n",
    "df_reduced['Income'] = scaler.transform(df_reduced[['Income']])\n",
    "df_reduced['Income'] = scaler.transform(df_reduced[['Income']])\n",
    "\n",
    "df_reduced.head()\n"
   ]
  },
  {
   "cell_type": "code",
   "execution_count": 3,
   "metadata": {},
   "outputs": [
    {
     "name": "stdout",
     "output_type": "stream",
     "text": [
      "Training set size: 331014 samples\n",
      "Test set size: 82754 samples\n"
     ]
    }
   ],
   "source": [
    "# Define X and y\n",
    "X = df_reduced.drop(columns=['History of Mental Illness_Yes'])\n",
    "y = df_reduced['History of Mental Illness_Yes']\n",
    "\n",
    "# Split the data\n",
    "X_train, X_test, y_train, y_test = train_test_split(X, y, test_size=0.2, random_state=rs, stratify=y)\n",
    "\n",
    "X_train.reset_index(drop=True, inplace=True)\n",
    "X_test.reset_index(drop=True, inplace=True)\n",
    "y_train.reset_index(drop=True, inplace=True)\n",
    "y_test.reset_index(drop=True, inplace=True)\n",
    "\n",
    "print(f\"Training set size: {X_train.shape[0]} samples\")\n",
    "print(f\"Test set size: {X_test.shape[0]} samples\")"
   ]
  },
  {
   "cell_type": "code",
   "execution_count": 4,
   "metadata": {},
   "outputs": [
    {
     "name": "stderr",
     "output_type": "stream",
     "text": [
      "GPU available: True (cuda), used: True\n",
      "TPU available: False, using: 0 TPU cores\n",
      "HPU available: False, using: 0 HPUs\n"
     ]
    }
   ],
   "source": [
    "data_module = CustomDataModule(X_train, y_train, X_test, y_test, n_workers=15, batch_size=131072)\n",
    "\n",
    "pytorch_model = Custom_Network(config=Config(num_blocks=2, n_embd=128, bias=True,dropout=0.1))\n",
    "\n",
    "lightning_model = LightningModel(model=pytorch_model, learning_rate=0.0005)\n",
    "\n",
    "trainer = pl.Trainer(max_epochs=20, accelerator=\"gpu\", devices=\"auto\", deterministic=True)"
   ]
  },
  {
   "cell_type": "code",
   "execution_count": null,
   "metadata": {},
   "outputs": [],
   "source": [
    "trainer.fit(model=lightning_model, datamodule=data_module)"
   ]
  },
  {
   "cell_type": "code",
   "execution_count": 6,
   "metadata": {},
   "outputs": [
    {
     "name": "stderr",
     "output_type": "stream",
     "text": [
      "Restoring states from the checkpoint path at /home/alejandro/Documents/Portfolio/Lead-Data-Scientist-Test/lightning_logs/version_31/checkpoints/epoch=19-step=60.ckpt\n",
      "LOCAL_RANK: 0 - CUDA_VISIBLE_DEVICES: [0]\n",
      "Loaded model weights from the checkpoint at /home/alejandro/Documents/Portfolio/Lead-Data-Scientist-Test/lightning_logs/version_31/checkpoints/epoch=19-step=60.ckpt\n"
     ]
    },
    {
     "data": {
      "application/vnd.jupyter.widget-view+json": {
       "model_id": "75a20e99930c4d19be47aca4431e1688",
       "version_major": 2,
       "version_minor": 0
      },
      "text/plain": [
       "Testing: |          | 0/? [00:00<?, ?it/s]"
      ]
     },
     "metadata": {},
     "output_type": "display_data"
    },
    {
     "name": "stderr",
     "output_type": "stream",
     "text": [
      "/home/alejandro/.local/lib/python3.10/site-packages/torchmetrics/utilities/prints.py:43: TorchMetricsUserWarning: You are trying to use a metric in deterministic mode on GPU that uses `torch.cumsum`, which is currently not supported. The tensor will be copied to the CPU memory to compute it and then copied back to GPU. Expect some slowdowns.\n",
      "  warnings.warn(*args, **kwargs)  # noqa: B028\n"
     ]
    },
    {
     "data": {
      "text/html": [
       "<pre style=\"white-space:pre;overflow-x:auto;line-height:normal;font-family:Menlo,'DejaVu Sans Mono',consolas,'Courier New',monospace\">┏━━━━━━━━━━━━━━━━━━━━━━━━━━━┳━━━━━━━━━━━━━━━━━━━━━━━━━━━┓\n",
       "┃<span style=\"font-weight: bold\">        Test metric        </span>┃<span style=\"font-weight: bold\">       DataLoader 0        </span>┃\n",
       "┡━━━━━━━━━━━━━━━━━━━━━━━━━━━╇━━━━━━━━━━━━━━━━━━━━━━━━━━━┩\n",
       "│<span style=\"color: #008080; text-decoration-color: #008080\">         test_acc          </span>│<span style=\"color: #800080; text-decoration-color: #800080\">    0.5111172795295715     </span>│\n",
       "│<span style=\"color: #008080; text-decoration-color: #008080\">         test_auc          </span>│<span style=\"color: #800080; text-decoration-color: #800080\">    0.5625492930412292     </span>│\n",
       "│<span style=\"color: #008080; text-decoration-color: #008080\">         test_prec         </span>│<span style=\"color: #800080; text-decoration-color: #800080\">    0.7185376286506653     </span>│\n",
       "│<span style=\"color: #008080; text-decoration-color: #008080\">         test_rec          </span>│<span style=\"color: #800080; text-decoration-color: #800080\">    0.3514070212841034     </span>│\n",
       "└───────────────────────────┴───────────────────────────┘\n",
       "</pre>\n"
      ],
      "text/plain": [
       "┏━━━━━━━━━━━━━━━━━━━━━━━━━━━┳━━━━━━━━━━━━━━━━━━━━━━━━━━━┓\n",
       "┃\u001b[1m \u001b[0m\u001b[1m       Test metric       \u001b[0m\u001b[1m \u001b[0m┃\u001b[1m \u001b[0m\u001b[1m      DataLoader 0       \u001b[0m\u001b[1m \u001b[0m┃\n",
       "┡━━━━━━━━━━━━━━━━━━━━━━━━━━━╇━━━━━━━━━━━━━━━━━━━━━━━━━━━┩\n",
       "│\u001b[36m \u001b[0m\u001b[36m        test_acc         \u001b[0m\u001b[36m \u001b[0m│\u001b[35m \u001b[0m\u001b[35m   0.5111172795295715    \u001b[0m\u001b[35m \u001b[0m│\n",
       "│\u001b[36m \u001b[0m\u001b[36m        test_auc         \u001b[0m\u001b[36m \u001b[0m│\u001b[35m \u001b[0m\u001b[35m   0.5625492930412292    \u001b[0m\u001b[35m \u001b[0m│\n",
       "│\u001b[36m \u001b[0m\u001b[36m        test_prec        \u001b[0m\u001b[36m \u001b[0m│\u001b[35m \u001b[0m\u001b[35m   0.7185376286506653    \u001b[0m\u001b[35m \u001b[0m│\n",
       "│\u001b[36m \u001b[0m\u001b[36m        test_rec         \u001b[0m\u001b[36m \u001b[0m│\u001b[35m \u001b[0m\u001b[35m   0.3514070212841034    \u001b[0m\u001b[35m \u001b[0m│\n",
       "└───────────────────────────┴───────────────────────────┘\n"
      ]
     },
     "metadata": {},
     "output_type": "display_data"
    },
    {
     "data": {
      "text/plain": [
       "[{'test_acc': 0.5111172795295715,\n",
       "  'test_auc': 0.5625492930412292,\n",
       "  'test_prec': 0.7185376286506653,\n",
       "  'test_rec': 0.3514070212841034}]"
      ]
     },
     "execution_count": 6,
     "metadata": {},
     "output_type": "execute_result"
    }
   ],
   "source": [
    "trainer.test(ckpt_path= 'best', datamodule=data_module)"
   ]
  },
  {
   "cell_type": "code",
   "execution_count": 7,
   "metadata": {},
   "outputs": [
    {
     "data": {
      "image/png": "[encoded data removed]",
      "text/plain": [
       "<Figure size 432x288 with 1 Axes>"
      ]
     },
     "metadata": {
      "needs_background": "light"
     },
     "output_type": "display_data"
    }
   ],
   "source": [
    "plot_confusion_matrix(lightning_model.conf_mtx.compute().numpy(), ['No', 'Yes'])"
   ]
  },
  {
   "cell_type": "code",
   "execution_count": null,
   "metadata": {},
   "outputs": [],
   "source": []
  }
 ],
 "metadata": {
  "kernelspec": {
   "display_name": "Python 3",
   "language": "python",
   "name": "python3"
  },
  "language_info": {
   "codemirror_mode": {
    "name": "ipython",
    "version": 3
   },
   "file_extension": ".py",
   "mimetype": "text/x-python",
   "name": "python",
   "nbconvert_exporter": "python",
   "pygments_lexer": "ipython3",
   "version": "3.10.12"
  }
 },
 "nbformat": 4,
 "nbformat_minor": 2
}
