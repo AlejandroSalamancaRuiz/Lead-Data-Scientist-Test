{
 "cells": [
  {
   "cell_type": "code",
   "execution_count": 1,
   "metadata": {},
   "outputs": [],
   "source": [
    "import pandas as pd\n",
    "import matplotlib.pyplot as plt\n",
    "import numpy as np\n",
    "from sklearn.metrics import roc_auc_score, roc_curve\n",
    "from sklearn.model_selection import train_test_split, cross_val_score, StratifiedKFold\n",
    "from sklearn.preprocessing import LabelEncoder\n",
    "from sklearn.metrics import accuracy_score, confusion_matrix, classification_report\n",
    "from sklearn.model_selection import train_test_split, GridSearchCV, RandomizedSearchCV, StratifiedKFold\n",
    "from sklearn.preprocessing import StandardScaler\n",
    "from sklearn.pipeline import Pipeline\n",
    "from xgboost import XGBClassifier\n",
    "# Models\n",
    "from sklearn.linear_model import LogisticRegression\n",
    "from sklearn.ensemble import RandomForestClassifier\n",
    "from sklearn.tree import DecisionTreeClassifier\n",
    "from sklearn.svm import SVC\n",
    "\n",
    "# function to plot confusion matrix\n",
    "def plot_confusion_matrix(matrix, labels):\n",
    "    fig, ax = plt.subplots()\n",
    "    im = ax.imshow(matrix, cmap='Blues')\n",
    "\n",
    "    ax.set_xticks(np.arange(len(labels)))\n",
    "    ax.set_yticks(np.arange(len(labels)))\n",
    "\n",
    "    ax.set_xticklabels(labels)\n",
    "    ax.set_yticklabels(labels)\n",
    "\n",
    "    plt.setp(ax.get_xticklabels(), rotation=45, ha=\"right\", rotation_mode=\"anchor\")\n",
    "\n",
    "    for i in range(len(labels)):\n",
    "        for j in range(len(labels)):\n",
    "            text = ax.text(j, i, matrix[i, j], ha=\"center\", va=\"center\", color=\"black\")\n",
    "\n",
    "    ax.set_title(\"Confusion Matrix\")\n",
    "    ax.set_xlabel('Predicted Labels')\n",
    "    ax.set_ylabel('True Labels')\n",
    "\n",
    "    fig.tight_layout()\n",
    "    plt.show()"
   ]
  },
  {
   "cell_type": "markdown",
   "metadata": {},
   "source": [
    "## Preprocessing (Mandatory for the rest of the notebook to work)"
   ]
  },
  {
   "cell_type": "code",
   "execution_count": 2,
   "metadata": {},
   "outputs": [
    {
     "data": {
      "text/html": [
       "<div>\n",
       "<style scoped>\n",
       "    .dataframe tbody tr th:only-of-type {\n",
       "        vertical-align: middle;\n",
       "    }\n",
       "\n",
       "    .dataframe tbody tr th {\n",
       "        vertical-align: top;\n",
       "    }\n",
       "\n",
       "    .dataframe thead th {\n",
       "        text-align: right;\n",
       "    }\n",
       "</style>\n",
       "<table border=\"1\" class=\"dataframe\">\n",
       "  <thead>\n",
       "    <tr style=\"text-align: right;\">\n",
       "      <th></th>\n",
       "      <th>Age</th>\n",
       "      <th>Number of Children</th>\n",
       "      <th>Income</th>\n",
       "      <th>Marital Status_Divorced</th>\n",
       "      <th>Marital Status_Married</th>\n",
       "      <th>Marital Status_Single</th>\n",
       "      <th>Marital Status_Widowed</th>\n",
       "      <th>Education Level_Associate Degree</th>\n",
       "      <th>Education Level_Bachelor's Degree</th>\n",
       "      <th>Education Level_High School</th>\n",
       "      <th>...</th>\n",
       "      <th>Dietary Habits_Healthy</th>\n",
       "      <th>Dietary Habits_Moderate</th>\n",
       "      <th>Dietary Habits_Unhealthy</th>\n",
       "      <th>Sleep Patterns_Fair</th>\n",
       "      <th>Sleep Patterns_Good</th>\n",
       "      <th>Sleep Patterns_Poor</th>\n",
       "      <th>History of Mental Illness_Yes</th>\n",
       "      <th>History of Substance Abuse_Yes</th>\n",
       "      <th>Family History of Depression_Yes</th>\n",
       "      <th>Chronic Medical Conditions_Yes</th>\n",
       "    </tr>\n",
       "  </thead>\n",
       "  <tbody>\n",
       "    <tr>\n",
       "      <th>0</th>\n",
       "      <td>0.31</td>\n",
       "      <td>0.50</td>\n",
       "      <td>-1.247101</td>\n",
       "      <td>0</td>\n",
       "      <td>1</td>\n",
       "      <td>0</td>\n",
       "      <td>0</td>\n",
       "      <td>0</td>\n",
       "      <td>1</td>\n",
       "      <td>0</td>\n",
       "      <td>...</td>\n",
       "      <td>0</td>\n",
       "      <td>1</td>\n",
       "      <td>0</td>\n",
       "      <td>1</td>\n",
       "      <td>0</td>\n",
       "      <td>0</td>\n",
       "      <td>1</td>\n",
       "      <td>0</td>\n",
       "      <td>1</td>\n",
       "      <td>1</td>\n",
       "    </tr>\n",
       "    <tr>\n",
       "      <th>1</th>\n",
       "      <td>0.55</td>\n",
       "      <td>0.25</td>\n",
       "      <td>-1.247091</td>\n",
       "      <td>0</td>\n",
       "      <td>1</td>\n",
       "      <td>0</td>\n",
       "      <td>0</td>\n",
       "      <td>0</td>\n",
       "      <td>0</td>\n",
       "      <td>1</td>\n",
       "      <td>...</td>\n",
       "      <td>0</td>\n",
       "      <td>0</td>\n",
       "      <td>1</td>\n",
       "      <td>1</td>\n",
       "      <td>0</td>\n",
       "      <td>0</td>\n",
       "      <td>1</td>\n",
       "      <td>0</td>\n",
       "      <td>0</td>\n",
       "      <td>1</td>\n",
       "    </tr>\n",
       "    <tr>\n",
       "      <th>2</th>\n",
       "      <td>0.78</td>\n",
       "      <td>0.25</td>\n",
       "      <td>-1.247041</td>\n",
       "      <td>0</td>\n",
       "      <td>0</td>\n",
       "      <td>0</td>\n",
       "      <td>1</td>\n",
       "      <td>0</td>\n",
       "      <td>0</td>\n",
       "      <td>0</td>\n",
       "      <td>...</td>\n",
       "      <td>0</td>\n",
       "      <td>0</td>\n",
       "      <td>1</td>\n",
       "      <td>0</td>\n",
       "      <td>1</td>\n",
       "      <td>0</td>\n",
       "      <td>0</td>\n",
       "      <td>0</td>\n",
       "      <td>1</td>\n",
       "      <td>0</td>\n",
       "    </tr>\n",
       "    <tr>\n",
       "      <th>3</th>\n",
       "      <td>0.58</td>\n",
       "      <td>0.75</td>\n",
       "      <td>-1.247111</td>\n",
       "      <td>1</td>\n",
       "      <td>0</td>\n",
       "      <td>0</td>\n",
       "      <td>0</td>\n",
       "      <td>0</td>\n",
       "      <td>0</td>\n",
       "      <td>0</td>\n",
       "      <td>...</td>\n",
       "      <td>0</td>\n",
       "      <td>1</td>\n",
       "      <td>0</td>\n",
       "      <td>0</td>\n",
       "      <td>0</td>\n",
       "      <td>1</td>\n",
       "      <td>0</td>\n",
       "      <td>0</td>\n",
       "      <td>0</td>\n",
       "      <td>0</td>\n",
       "    </tr>\n",
       "    <tr>\n",
       "      <th>4</th>\n",
       "      <td>0.18</td>\n",
       "      <td>0.00</td>\n",
       "      <td>-1.247112</td>\n",
       "      <td>0</td>\n",
       "      <td>0</td>\n",
       "      <td>1</td>\n",
       "      <td>0</td>\n",
       "      <td>0</td>\n",
       "      <td>0</td>\n",
       "      <td>1</td>\n",
       "      <td>...</td>\n",
       "      <td>0</td>\n",
       "      <td>1</td>\n",
       "      <td>0</td>\n",
       "      <td>1</td>\n",
       "      <td>0</td>\n",
       "      <td>0</td>\n",
       "      <td>1</td>\n",
       "      <td>0</td>\n",
       "      <td>1</td>\n",
       "      <td>1</td>\n",
       "    </tr>\n",
       "  </tbody>\n",
       "</table>\n",
       "<p>5 rows × 33 columns</p>\n",
       "</div>"
      ],
      "text/plain": [
       "    Age  Number of Children    Income  Marital Status_Divorced  \\\n",
       "0  0.31                0.50 -1.247101                        0   \n",
       "1  0.55                0.25 -1.247091                        0   \n",
       "2  0.78                0.25 -1.247041                        0   \n",
       "3  0.58                0.75 -1.247111                        1   \n",
       "4  0.18                0.00 -1.247112                        0   \n",
       "\n",
       "   Marital Status_Married  Marital Status_Single  Marital Status_Widowed  \\\n",
       "0                       1                      0                       0   \n",
       "1                       1                      0                       0   \n",
       "2                       0                      0                       1   \n",
       "3                       0                      0                       0   \n",
       "4                       0                      1                       0   \n",
       "\n",
       "   Education Level_Associate Degree  Education Level_Bachelor's Degree  \\\n",
       "0                                 0                                  1   \n",
       "1                                 0                                  0   \n",
       "2                                 0                                  0   \n",
       "3                                 0                                  0   \n",
       "4                                 0                                  0   \n",
       "\n",
       "   Education Level_High School  ...  Dietary Habits_Healthy  \\\n",
       "0                            0  ...                       0   \n",
       "1                            1  ...                       0   \n",
       "2                            0  ...                       0   \n",
       "3                            0  ...                       0   \n",
       "4                            1  ...                       0   \n",
       "\n",
       "   Dietary Habits_Moderate  Dietary Habits_Unhealthy  Sleep Patterns_Fair  \\\n",
       "0                        1                         0                    1   \n",
       "1                        0                         1                    1   \n",
       "2                        0                         1                    0   \n",
       "3                        1                         0                    0   \n",
       "4                        1                         0                    1   \n",
       "\n",
       "   Sleep Patterns_Good  Sleep Patterns_Poor  History of Mental Illness_Yes  \\\n",
       "0                    0                    0                              1   \n",
       "1                    0                    0                              1   \n",
       "2                    1                    0                              0   \n",
       "3                    0                    1                              0   \n",
       "4                    0                    0                              1   \n",
       "\n",
       "   History of Substance Abuse_Yes  Family History of Depression_Yes  \\\n",
       "0                               0                                 1   \n",
       "1                               0                                 0   \n",
       "2                               0                                 1   \n",
       "3                               0                                 0   \n",
       "4                               0                                 1   \n",
       "\n",
       "   Chronic Medical Conditions_Yes  \n",
       "0                               1  \n",
       "1                               1  \n",
       "2                               0  \n",
       "3                               0  \n",
       "4                               1  \n",
       "\n",
       "[5 rows x 33 columns]"
      ]
     },
     "execution_count": 2,
     "metadata": {},
     "output_type": "execute_result"
    }
   ],
   "source": [
    "# Random seed\n",
    "rs = 42\n",
    "\n",
    "df = pd. read_csv('depression_data.csv')\n",
    "# Drop name column\n",
    "df.drop(columns='Name', inplace=True)\n",
    "\n",
    "# Identify categorical columns (object dtype)\n",
    "categorical_columns = df.select_dtypes(include=['object']).columns.tolist()\n",
    "\n",
    "# One-hot encode categorical variables\n",
    "df_encoded = pd.get_dummies(df, columns=categorical_columns)\n",
    "\n",
    "# Remove redundant columns\n",
    "no_columns = [col for col in df_encoded.columns.tolist() if col.endswith('_No')]\n",
    "df_reduced = df_encoded.drop(columns=no_columns)\n",
    "\n",
    "# Normalize the Age and Number of Children columns\n",
    "df_reduced['Age'] = df_reduced['Age'] / 100\n",
    "df_reduced['Number of Children'] = df_reduced['Number of Children'] / 4\n",
    "\n",
    "# Initialize the scaler\n",
    "scaler = StandardScaler()\n",
    "\n",
    "# Fit the scaler on the training data's Income column\n",
    "scaler.fit(df_reduced[['Income']])\n",
    "\n",
    "# Transform the Income column in both training and test sets\n",
    "df_reduced['Income'] = scaler.transform(df_reduced[['Income']])\n",
    "df_reduced['Income'] = scaler.transform(df_reduced[['Income']])\n",
    "\n",
    "df_reduced.head()\n"
   ]
  },
  {
   "cell_type": "code",
   "execution_count": 3,
   "metadata": {},
   "outputs": [
    {
     "name": "stdout",
     "output_type": "stream",
     "text": [
      "Training set size: 331014 samples\n",
      "Test set size: 82754 samples\n"
     ]
    }
   ],
   "source": [
    "# Define X and y\n",
    "X = df_reduced.drop(columns=['History of Mental Illness_Yes'])\n",
    "y = df_reduced['History of Mental Illness_Yes']\n",
    "\n",
    "# Split the data\n",
    "X_train, X_test, y_train, y_test = train_test_split(X, y, test_size=0.2, random_state=rs, stratify=y)\n",
    "\n",
    "X_train.reset_index(drop=True, inplace=True)\n",
    "X_test.reset_index(drop=True, inplace=True)\n",
    "y_train.reset_index(drop=True, inplace=True)\n",
    "y_test.reset_index(drop=True, inplace=True)\n",
    "\n",
    "print(f\"Training set size: {X_train.shape[0]} samples\")\n",
    "print(f\"Test set size: {X_test.shape[0]} samples\")"
   ]
  },
  {
   "cell_type": "markdown",
   "metadata": {},
   "source": [
    "## Cross Validation Strategy"
   ]
  },
  {
   "cell_type": "code",
   "execution_count": 4,
   "metadata": {},
   "outputs": [],
   "source": [
    "# Cross-validation strategy\n",
    "cv = StratifiedKFold(n_splits=5, shuffle=True, random_state=rs)"
   ]
  },
  {
   "cell_type": "markdown",
   "metadata": {},
   "source": [
    "## Logistic Regression"
   ]
  },
  {
   "cell_type": "code",
   "execution_count": 17,
   "metadata": {},
   "outputs": [
    {
     "name": "stderr",
     "output_type": "stream",
     "text": [
      "/home/alejandro/.local/lib/python3.10/site-packages/sklearn/linear_model/_logistic.py:1181: UserWarning: Setting penalty=None will ignore the C and l1_ratio parameters\n",
      "  warnings.warn(\n",
      "/home/alejandro/.local/lib/python3.10/site-packages/sklearn/linear_model/_logistic.py:1181: UserWarning: Setting penalty=None will ignore the C and l1_ratio parameters\n",
      "  warnings.warn(\n",
      "/home/alejandro/.local/lib/python3.10/site-packages/sklearn/linear_model/_logistic.py:1181: UserWarning: Setting penalty=None will ignore the C and l1_ratio parameters\n",
      "  warnings.warn(\n",
      "/home/alejandro/.local/lib/python3.10/site-packages/sklearn/linear_model/_logistic.py:1181: UserWarning: Setting penalty=None will ignore the C and l1_ratio parameters\n",
      "  warnings.warn(\n",
      "/home/alejandro/.local/lib/python3.10/site-packages/sklearn/linear_model/_logistic.py:1181: UserWarning: Setting penalty=None will ignore the C and l1_ratio parameters\n",
      "  warnings.warn(\n",
      "/home/alejandro/.local/lib/python3.10/site-packages/sklearn/linear_model/_sag.py:350: ConvergenceWarning: The max_iter was reached which means the coef_ did not converge\n",
      "  warnings.warn(\n",
      "/home/alejandro/.local/lib/python3.10/site-packages/sklearn/linear_model/_sag.py:350: ConvergenceWarning: The max_iter was reached which means the coef_ did not converge\n",
      "  warnings.warn(\n",
      "/home/alejandro/.local/lib/python3.10/site-packages/sklearn/linear_model/_sag.py:350: ConvergenceWarning: The max_iter was reached which means the coef_ did not converge\n",
      "  warnings.warn(\n",
      "/home/alejandro/.local/lib/python3.10/site-packages/sklearn/linear_model/_sag.py:350: ConvergenceWarning: The max_iter was reached which means the coef_ did not converge\n",
      "  warnings.warn(\n",
      "/home/alejandro/.local/lib/python3.10/site-packages/sklearn/linear_model/_sag.py:350: ConvergenceWarning: The max_iter was reached which means the coef_ did not converge\n",
      "  warnings.warn(\n",
      "/home/alejandro/.local/lib/python3.10/site-packages/sklearn/model_selection/_validation.py:378: FitFailedWarning: \n",
      "15 fits failed out of a total of 25.\n",
      "The score on these train-test partitions for these parameters will be set to nan.\n",
      "If these failures are not expected, you can try to debug them by setting error_score='raise'.\n",
      "\n",
      "Below are more details about the failures:\n",
      "--------------------------------------------------------------------------------\n",
      "5 fits failed with the following error:\n",
      "Traceback (most recent call last):\n",
      "  File \"/home/alejandro/.local/lib/python3.10/site-packages/sklearn/model_selection/_validation.py\", line 686, in _fit_and_score\n",
      "    estimator.fit(X_train, y_train, **fit_params)\n",
      "  File \"/home/alejandro/.local/lib/python3.10/site-packages/sklearn/linear_model/_logistic.py\", line 1291, in fit\n",
      "    fold_coefs_ = Parallel(n_jobs=self.n_jobs, verbose=self.verbose, prefer=prefer)(\n",
      "  File \"/home/alejandro/.local/lib/python3.10/site-packages/sklearn/utils/parallel.py\", line 63, in __call__\n",
      "    return super().__call__(iterable_with_config)\n",
      "  File \"/home/alejandro/.local/lib/python3.10/site-packages/joblib/parallel.py\", line 1085, in __call__\n",
      "    if self.dispatch_one_batch(iterator):\n",
      "  File \"/home/alejandro/.local/lib/python3.10/site-packages/joblib/parallel.py\", line 901, in dispatch_one_batch\n",
      "    self._dispatch(tasks)\n",
      "  File \"/home/alejandro/.local/lib/python3.10/site-packages/joblib/parallel.py\", line 819, in _dispatch\n",
      "    job = self._backend.apply_async(batch, callback=cb)\n",
      "  File \"/home/alejandro/.local/lib/python3.10/site-packages/joblib/_parallel_backends.py\", line 208, in apply_async\n",
      "    result = ImmediateResult(func)\n",
      "  File \"/home/alejandro/.local/lib/python3.10/site-packages/joblib/_parallel_backends.py\", line 597, in __init__\n",
      "    self.results = batch()\n",
      "  File \"/home/alejandro/.local/lib/python3.10/site-packages/joblib/parallel.py\", line 288, in __call__\n",
      "    return [func(*args, **kwargs)\n",
      "  File \"/home/alejandro/.local/lib/python3.10/site-packages/joblib/parallel.py\", line 288, in <listcomp>\n",
      "    return [func(*args, **kwargs)\n",
      "  File \"/home/alejandro/.local/lib/python3.10/site-packages/sklearn/utils/parallel.py\", line 123, in __call__\n",
      "    return self.function(*args, **kwargs)\n",
      "  File \"/home/alejandro/.local/lib/python3.10/site-packages/sklearn/linear_model/_logistic.py\", line 521, in _logistic_regression_path\n",
      "    alpha = (1.0 / C) * (1 - l1_ratio)\n",
      "TypeError: unsupported operand type(s) for -: 'int' and 'NoneType'\n",
      "\n",
      "--------------------------------------------------------------------------------\n",
      "10 fits failed with the following error:\n",
      "Traceback (most recent call last):\n",
      "  File \"/home/alejandro/.local/lib/python3.10/site-packages/sklearn/model_selection/_validation.py\", line 686, in _fit_and_score\n",
      "    estimator.fit(X_train, y_train, **fit_params)\n",
      "  File \"/home/alejandro/.local/lib/python3.10/site-packages/sklearn/linear_model/_logistic.py\", line 1162, in fit\n",
      "    solver = _check_solver(self.solver, self.penalty, self.dual)\n",
      "  File \"/home/alejandro/.local/lib/python3.10/site-packages/sklearn/linear_model/_logistic.py\", line 54, in _check_solver\n",
      "    raise ValueError(\n",
      "ValueError: Solver lbfgs supports only 'l2' or 'none' penalties, got l1 penalty.\n",
      "\n",
      "  warnings.warn(some_fits_failed_message, FitFailedWarning)\n",
      "/home/alejandro/.local/lib/python3.10/site-packages/sklearn/model_selection/_search.py:952: UserWarning: One or more of the test scores are non-finite: [       nan 0.59693091        nan 0.59693025        nan]\n",
      "  warnings.warn(\n",
      "/home/alejandro/.local/lib/python3.10/site-packages/sklearn/linear_model/_logistic.py:1181: UserWarning: Setting penalty=None will ignore the C and l1_ratio parameters\n",
      "  warnings.warn(\n"
     ]
    },
    {
     "name": "stdout",
     "output_type": "stream",
     "text": [
      "Best parameters for Logistic Regression:\n",
      "{'solver': 'saga', 'penalty': None, 'max_iter': 1000, 'C': 0.1}\n",
      "Best ROC AUC: 0.5969\n"
     ]
    },
    {
     "name": "stderr",
     "output_type": "stream",
     "text": [
      "/home/alejandro/.local/lib/python3.10/site-packages/sklearn/linear_model/_sag.py:350: ConvergenceWarning: The max_iter was reached which means the coef_ did not converge\n",
      "  warnings.warn(\n"
     ]
    }
   ],
   "source": [
    "param_grid_lr = {\n",
    "    'penalty': ['l1', 'l2', 'elasticnet', None],\n",
    "    'C': [0.01, 0.1, 1, 10],\n",
    "    'solver': ['lbfgs', 'saga'],\n",
    "    'max_iter': [1000]\n",
    "}\n",
    "\n",
    "random_search_lr = RandomizedSearchCV(\n",
    "    estimator=LogisticRegression(class_weight='balanced', random_state=rs),\n",
    "    param_distributions=param_grid_lr,\n",
    "    n_iter=5,  \n",
    "    cv=cv,\n",
    "    scoring='roc_auc',\n",
    "    n_jobs=-1,\n",
    "    random_state=rs\n",
    ")\n",
    "random_search_lr.fit(X_train, y_train)\n",
    "\n",
    "print(\"Best parameters for Logistic Regression:\")\n",
    "print(random_search_lr.best_params_)\n",
    "print(f\"Best ROC AUC: {random_search_lr.best_score_:.4f}\")"
   ]
  },
  {
   "cell_type": "markdown",
   "metadata": {},
   "source": [
    "## Decision Tree"
   ]
  },
  {
   "cell_type": "code",
   "execution_count": 18,
   "metadata": {},
   "outputs": [
    {
     "name": "stdout",
     "output_type": "stream",
     "text": [
      "Best parameters for Decision Tree:\n",
      "{'min_samples_split': 10, 'max_features': 'sqrt', 'max_depth': 10, 'criterion': 'log_loss'}\n",
      "Best ROC AUC: 0.5953\n"
     ]
    }
   ],
   "source": [
    "param_grid_dt = {\n",
    "    'criterion': ['gini', 'entropy', 'log_loss'],\n",
    "    'max_depth': [None, 5, 10, 20],\n",
    "    'min_samples_split': [2, 5, 10],\n",
    "    'max_features': ['sqrt', 'log2']\n",
    "}\n",
    "\n",
    "random_search_dt = RandomizedSearchCV(\n",
    "    estimator=DecisionTreeClassifier(class_weight='balanced', random_state=rs),\n",
    "    param_distributions=param_grid_dt,\n",
    "    n_iter=5,  \n",
    "    cv=cv,\n",
    "    scoring='roc_auc',\n",
    "    n_jobs=-1,\n",
    "    random_state=rs\n",
    ")\n",
    "\n",
    "random_search_dt.fit(X_train, y_train)\n",
    "\n",
    "print(\"Best parameters for Decision Tree:\")\n",
    "print(random_search_dt.best_params_)\n",
    "print(f\"Best ROC AUC: {random_search_dt.best_score_:.4f}\")\n"
   ]
  },
  {
   "cell_type": "markdown",
   "metadata": {},
   "source": [
    "## Random Forest"
   ]
  },
  {
   "cell_type": "code",
   "execution_count": 19,
   "metadata": {},
   "outputs": [
    {
     "name": "stderr",
     "output_type": "stream",
     "text": [
      "/home/alejandro/.local/lib/python3.10/site-packages/joblib/externals/loky/process_executor.py:700: UserWarning: A worker stopped while some jobs were given to the executor. This can be caused by a too short worker timeout or by a memory leak.\n",
      "  warnings.warn(\n"
     ]
    },
    {
     "name": "stdout",
     "output_type": "stream",
     "text": [
      "Best parameters for Random Forest:\n",
      "{'n_estimators': 100, 'min_samples_split': 10, 'max_features': 'log2', 'max_depth': 5, 'criterion': 'log_loss'}\n",
      "Best ROC AUC: 0.6005\n"
     ]
    }
   ],
   "source": [
    "param_grid_rf = {\n",
    "    'n_estimators': [100, 200, 500],\n",
    "    'criterion': ['gini', 'entropy', 'log_loss'],\n",
    "    'max_depth': [None, 5, 10, 20],\n",
    "    'min_samples_split': [2, 5, 10],\n",
    "    'max_features': ['sqrt', 'log2']\n",
    "}\n",
    "\n",
    "random_search_rf = RandomizedSearchCV(\n",
    "    estimator=RandomForestClassifier(class_weight='balanced', random_state=rs),\n",
    "    param_distributions=param_grid_rf,\n",
    "    n_iter=5,  \n",
    "    cv=cv,\n",
    "    scoring='roc_auc',\n",
    "    n_jobs=-1,\n",
    "    random_state=rs\n",
    ")\n",
    "\n",
    "random_search_rf.fit(X_train, y_train)\n",
    "\n",
    "print(\"Best parameters for Random Forest:\")\n",
    "print(random_search_rf.best_params_)\n",
    "print(f\"Best ROC AUC: {random_search_rf.best_score_:.4f}\")"
   ]
  },
  {
   "cell_type": "markdown",
   "metadata": {},
   "source": [
    "## Support Vector Machine"
   ]
  },
  {
   "cell_type": "code",
   "execution_count": null,
   "metadata": {},
   "outputs": [],
   "source": [
    "param_grid_svm = {\n",
    "    'C': [0.1, 1, 10],\n",
    "    'kernel': ['linear', 'rbf', 'poly'],\n",
    "    'gamma': ['scale', 'auto'],\n",
    "    'degree': [3, 4, 5]  \n",
    "}\n",
    "\n",
    "random_search_svm = RandomizedSearchCV(\n",
    "    estimator=SVC(probability=True, random_state=rs, class_weight='balanced'),\n",
    "    param_distributions=param_grid_svm,\n",
    "    n_iter=5,  \n",
    "    cv=cv,\n",
    "    scoring='roc_auc',\n",
    "    n_jobs=-1,\n",
    "    random_state=rs\n",
    ")\n",
    "\n",
    "random_search_svm.fit(X_train, y_train)\n",
    "\n",
    "print(\"Best parameters for SVM:\")\n",
    "print(random_search_svm.best_params_)\n",
    "print(f\"Best ROC AUC: {random_search_svm.best_score_:.4f}\")\n"
   ]
  },
  {
   "cell_type": "markdown",
   "metadata": {},
   "source": [
    "## XGBoost"
   ]
  },
  {
   "cell_type": "code",
   "execution_count": 20,
   "metadata": {},
   "outputs": [
    {
     "name": "stderr",
     "output_type": "stream",
     "text": [
      "/home/alejandro/.local/lib/python3.10/site-packages/xgboost/core.py:158: UserWarning: [21:56:11] WARNING: /workspace/src/learner.cc:740: \n",
      "Parameters: { \"classifier__colsample_bytree\", \"classifier__gamma\", \"classifier__learning_rate\", \"classifier__max_depth\", \"classifier__n_estimators\", \"classifier__reg_alpha\", \"classifier__reg_lambda\", \"classifier__subsample\", \"use_label_encoder\" } are not used.\n",
      "\n",
      "  warnings.warn(smsg, UserWarning)\n",
      "/home/alejandro/.local/lib/python3.10/site-packages/xgboost/core.py:158: UserWarning: [21:56:12] WARNING: /workspace/src/learner.cc:740: \n",
      "Parameters: { \"classifier__colsample_bytree\", \"classifier__gamma\", \"classifier__learning_rate\", \"classifier__max_depth\", \"classifier__n_estimators\", \"classifier__reg_alpha\", \"classifier__reg_lambda\", \"classifier__subsample\", \"use_label_encoder\" } are not used.\n",
      "\n",
      "  warnings.warn(smsg, UserWarning)\n",
      "/home/alejandro/.local/lib/python3.10/site-packages/xgboost/core.py:158: UserWarning: [21:56:12] WARNING: /workspace/src/learner.cc:740: \n",
      "Parameters: { \"classifier__colsample_bytree\", \"classifier__gamma\", \"classifier__learning_rate\", \"classifier__max_depth\", \"classifier__n_estimators\", \"classifier__reg_alpha\", \"classifier__reg_lambda\", \"classifier__subsample\", \"use_label_encoder\" } are not used.\n",
      "\n",
      "  warnings.warn(smsg, UserWarning)\n",
      "/home/alejandro/.local/lib/python3.10/site-packages/xgboost/core.py:158: UserWarning: [21:56:12] WARNING: /workspace/src/learner.cc:740: \n",
      "Parameters: { \"classifier__colsample_bytree\", \"classifier__gamma\", \"classifier__learning_rate\", \"classifier__max_depth\", \"classifier__n_estimators\", \"classifier__reg_alpha\", \"classifier__reg_lambda\", \"classifier__subsample\", \"use_label_encoder\" } are not used.\n",
      "\n",
      "  warnings.warn(smsg, UserWarning)\n",
      "/home/alejandro/.local/lib/python3.10/site-packages/xgboost/core.py:158: UserWarning: [21:56:12] WARNING: /workspace/src/learner.cc:740: \n",
      "Parameters: { \"classifier__colsample_bytree\", \"classifier__gamma\", \"classifier__learning_rate\", \"classifier__max_depth\", \"classifier__n_estimators\", \"classifier__reg_alpha\", \"classifier__reg_lambda\", \"classifier__subsample\", \"use_label_encoder\" } are not used.\n",
      "\n",
      "  warnings.warn(smsg, UserWarning)\n",
      "/home/alejandro/.local/lib/python3.10/site-packages/xgboost/core.py:158: UserWarning: [21:56:12] WARNING: /workspace/src/learner.cc:740: \n",
      "Parameters: { \"classifier__colsample_bytree\", \"classifier__gamma\", \"classifier__learning_rate\", \"classifier__max_depth\", \"classifier__n_estimators\", \"classifier__reg_alpha\", \"classifier__reg_lambda\", \"classifier__subsample\", \"use_label_encoder\" } are not used.\n",
      "\n",
      "  warnings.warn(smsg, UserWarning)\n",
      "/home/alejandro/.local/lib/python3.10/site-packages/xgboost/core.py:158: UserWarning: [21:56:12] WARNING: /workspace/src/learner.cc:740: \n",
      "Parameters: { \"classifier__colsample_bytree\", \"classifier__gamma\", \"classifier__learning_rate\", \"classifier__max_depth\", \"classifier__n_estimators\", \"classifier__reg_alpha\", \"classifier__reg_lambda\", \"classifier__subsample\", \"use_label_encoder\" } are not used.\n",
      "\n",
      "  warnings.warn(smsg, UserWarning)\n",
      "/home/alejandro/.local/lib/python3.10/site-packages/xgboost/core.py:158: UserWarning: [21:56:12] WARNING: /workspace/src/learner.cc:740: \n",
      "Parameters: { \"classifier__colsample_bytree\", \"classifier__gamma\", \"classifier__learning_rate\", \"classifier__max_depth\", \"classifier__n_estimators\", \"classifier__reg_alpha\", \"classifier__reg_lambda\", \"classifier__subsample\", \"use_label_encoder\" } are not used.\n",
      "\n",
      "  warnings.warn(smsg, UserWarning)\n",
      "/home/alejandro/.local/lib/python3.10/site-packages/xgboost/core.py:158: UserWarning: [21:56:12] WARNING: /workspace/src/learner.cc:740: \n",
      "Parameters: { \"classifier__colsample_bytree\", \"classifier__gamma\", \"classifier__learning_rate\", \"classifier__max_depth\", \"classifier__n_estimators\", \"classifier__reg_alpha\", \"classifier__reg_lambda\", \"classifier__subsample\", \"use_label_encoder\" } are not used.\n",
      "\n",
      "  warnings.warn(smsg, UserWarning)\n",
      "/home/alejandro/.local/lib/python3.10/site-packages/xgboost/core.py:158: UserWarning: [21:56:12] WARNING: /workspace/src/learner.cc:740: \n",
      "Parameters: { \"classifier__colsample_bytree\", \"classifier__gamma\", \"classifier__learning_rate\", \"classifier__max_depth\", \"classifier__n_estimators\", \"classifier__reg_alpha\", \"classifier__reg_lambda\", \"classifier__subsample\", \"use_label_encoder\" } are not used.\n",
      "\n",
      "  warnings.warn(smsg, UserWarning)\n",
      "/home/alejandro/.local/lib/python3.10/site-packages/xgboost/core.py:158: UserWarning: [21:56:12] WARNING: /workspace/src/learner.cc:740: \n",
      "Parameters: { \"classifier__colsample_bytree\", \"classifier__gamma\", \"classifier__learning_rate\", \"classifier__max_depth\", \"classifier__n_estimators\", \"classifier__reg_alpha\", \"classifier__reg_lambda\", \"classifier__subsample\", \"use_label_encoder\" } are not used.\n",
      "\n",
      "  warnings.warn(smsg, UserWarning)\n",
      "/home/alejandro/.local/lib/python3.10/site-packages/xgboost/core.py:158: UserWarning: [21:56:12] WARNING: /workspace/src/learner.cc:740: \n",
      "Parameters: { \"classifier__colsample_bytree\", \"classifier__gamma\", \"classifier__learning_rate\", \"classifier__max_depth\", \"classifier__n_estimators\", \"classifier__reg_alpha\", \"classifier__reg_lambda\", \"classifier__subsample\", \"use_label_encoder\" } are not used.\n",
      "\n",
      "  warnings.warn(smsg, UserWarning)\n",
      "/home/alejandro/.local/lib/python3.10/site-packages/xgboost/core.py:158: UserWarning: [21:56:12] WARNING: /workspace/src/learner.cc:740: \n",
      "Parameters: { \"classifier__colsample_bytree\", \"classifier__gamma\", \"classifier__learning_rate\", \"classifier__max_depth\", \"classifier__n_estimators\", \"classifier__reg_alpha\", \"classifier__reg_lambda\", \"classifier__subsample\", \"use_label_encoder\" } are not used.\n",
      "\n",
      "  warnings.warn(smsg, UserWarning)\n",
      "/home/alejandro/.local/lib/python3.10/site-packages/xgboost/core.py:158: UserWarning: [21:56:13] WARNING: /workspace/src/learner.cc:740: \n",
      "Parameters: { \"classifier__colsample_bytree\", \"classifier__gamma\", \"classifier__learning_rate\", \"classifier__max_depth\", \"classifier__n_estimators\", \"classifier__reg_alpha\", \"classifier__reg_lambda\", \"classifier__subsample\", \"use_label_encoder\" } are not used.\n",
      "\n",
      "  warnings.warn(smsg, UserWarning)\n",
      "/home/alejandro/.local/lib/python3.10/site-packages/xgboost/core.py:158: UserWarning: [21:56:13] WARNING: /workspace/src/learner.cc:740: \n",
      "Parameters: { \"classifier__colsample_bytree\", \"classifier__gamma\", \"classifier__learning_rate\", \"classifier__max_depth\", \"classifier__n_estimators\", \"classifier__reg_alpha\", \"classifier__reg_lambda\", \"classifier__subsample\", \"use_label_encoder\" } are not used.\n",
      "\n",
      "  warnings.warn(smsg, UserWarning)\n",
      "/home/alejandro/.local/lib/python3.10/site-packages/xgboost/core.py:158: UserWarning: [21:56:13] WARNING: /workspace/src/learner.cc:740: \n",
      "Parameters: { \"classifier__colsample_bytree\", \"classifier__gamma\", \"classifier__learning_rate\", \"classifier__max_depth\", \"classifier__n_estimators\", \"classifier__reg_alpha\", \"classifier__reg_lambda\", \"classifier__subsample\", \"use_label_encoder\" } are not used.\n",
      "\n",
      "  warnings.warn(smsg, UserWarning)\n",
      "/home/alejandro/.local/lib/python3.10/site-packages/joblib/externals/loky/process_executor.py:700: UserWarning: A worker stopped while some jobs were given to the executor. This can be caused by a too short worker timeout or by a memory leak.\n",
      "  warnings.warn(\n",
      "/home/alejandro/.local/lib/python3.10/site-packages/xgboost/core.py:158: UserWarning: [21:56:20] WARNING: /workspace/src/learner.cc:740: \n",
      "Parameters: { \"classifier__colsample_bytree\", \"classifier__gamma\", \"classifier__learning_rate\", \"classifier__max_depth\", \"classifier__n_estimators\", \"classifier__reg_alpha\", \"classifier__reg_lambda\", \"classifier__subsample\", \"use_label_encoder\" } are not used.\n",
      "\n",
      "  warnings.warn(smsg, UserWarning)\n",
      "/home/alejandro/.local/lib/python3.10/site-packages/xgboost/core.py:158: UserWarning: [21:56:20] WARNING: /workspace/src/learner.cc:740: \n",
      "Parameters: { \"classifier__colsample_bytree\", \"classifier__gamma\", \"classifier__learning_rate\", \"classifier__max_depth\", \"classifier__n_estimators\", \"classifier__reg_alpha\", \"classifier__reg_lambda\", \"classifier__subsample\", \"use_label_encoder\" } are not used.\n",
      "\n",
      "  warnings.warn(smsg, UserWarning)\n",
      "/home/alejandro/.local/lib/python3.10/site-packages/xgboost/core.py:158: UserWarning: [21:56:20] WARNING: /workspace/src/learner.cc:740: \n",
      "Parameters: { \"classifier__colsample_bytree\", \"classifier__gamma\", \"classifier__learning_rate\", \"classifier__max_depth\", \"classifier__n_estimators\", \"classifier__reg_alpha\", \"classifier__reg_lambda\", \"classifier__subsample\", \"use_label_encoder\" } are not used.\n",
      "\n",
      "  warnings.warn(smsg, UserWarning)\n",
      "/home/alejandro/.local/lib/python3.10/site-packages/xgboost/core.py:158: UserWarning: [21:56:20] WARNING: /workspace/src/learner.cc:740: \n",
      "Parameters: { \"classifier__colsample_bytree\", \"classifier__gamma\", \"classifier__learning_rate\", \"classifier__max_depth\", \"classifier__n_estimators\", \"classifier__reg_alpha\", \"classifier__reg_lambda\", \"classifier__subsample\", \"use_label_encoder\" } are not used.\n",
      "\n",
      "  warnings.warn(smsg, UserWarning)\n",
      "/home/alejandro/.local/lib/python3.10/site-packages/xgboost/core.py:158: UserWarning: [21:56:20] WARNING: /workspace/src/learner.cc:740: \n",
      "Parameters: { \"classifier__colsample_bytree\", \"classifier__gamma\", \"classifier__learning_rate\", \"classifier__max_depth\", \"classifier__n_estimators\", \"classifier__reg_alpha\", \"classifier__reg_lambda\", \"classifier__subsample\", \"use_label_encoder\" } are not used.\n",
      "\n",
      "  warnings.warn(smsg, UserWarning)\n",
      "/home/alejandro/.local/lib/python3.10/site-packages/xgboost/core.py:158: UserWarning: [21:56:20] WARNING: /workspace/src/learner.cc:740: \n",
      "Parameters: { \"classifier__colsample_bytree\", \"classifier__gamma\", \"classifier__learning_rate\", \"classifier__max_depth\", \"classifier__n_estimators\", \"classifier__reg_alpha\", \"classifier__reg_lambda\", \"classifier__subsample\", \"use_label_encoder\" } are not used.\n",
      "\n",
      "  warnings.warn(smsg, UserWarning)\n",
      "/home/alejandro/.local/lib/python3.10/site-packages/xgboost/core.py:158: UserWarning: [21:56:20] WARNING: /workspace/src/learner.cc:740: \n",
      "Parameters: { \"classifier__colsample_bytree\", \"classifier__gamma\", \"classifier__learning_rate\", \"classifier__max_depth\", \"classifier__n_estimators\", \"classifier__reg_alpha\", \"classifier__reg_lambda\", \"classifier__subsample\", \"use_label_encoder\" } are not used.\n",
      "\n",
      "  warnings.warn(smsg, UserWarning)\n",
      "/home/alejandro/.local/lib/python3.10/site-packages/xgboost/core.py:158: UserWarning: [21:56:20] WARNING: /workspace/src/learner.cc:740: \n",
      "Parameters: { \"classifier__colsample_bytree\", \"classifier__gamma\", \"classifier__learning_rate\", \"classifier__max_depth\", \"classifier__n_estimators\", \"classifier__reg_alpha\", \"classifier__reg_lambda\", \"classifier__subsample\", \"use_label_encoder\" } are not used.\n",
      "\n",
      "  warnings.warn(smsg, UserWarning)\n",
      "/home/alejandro/.local/lib/python3.10/site-packages/xgboost/core.py:158: UserWarning: [21:56:20] WARNING: /workspace/src/learner.cc:740: \n",
      "Parameters: { \"classifier__colsample_bytree\", \"classifier__gamma\", \"classifier__learning_rate\", \"classifier__max_depth\", \"classifier__n_estimators\", \"classifier__reg_alpha\", \"classifier__reg_lambda\", \"classifier__subsample\", \"use_label_encoder\" } are not used.\n",
      "\n",
      "  warnings.warn(smsg, UserWarning)\n",
      "/home/alejandro/.local/lib/python3.10/site-packages/xgboost/core.py:158: UserWarning: [21:56:25] WARNING: /workspace/src/learner.cc:740: \n",
      "Parameters: { \"classifier__colsample_bytree\", \"classifier__gamma\", \"classifier__learning_rate\", \"classifier__max_depth\", \"classifier__n_estimators\", \"classifier__reg_alpha\", \"classifier__reg_lambda\", \"classifier__subsample\", \"use_label_encoder\" } are not used.\n",
      "\n",
      "  warnings.warn(smsg, UserWarning)\n"
     ]
    },
    {
     "name": "stdout",
     "output_type": "stream",
     "text": [
      "Best parameters found:\n",
      "{'classifier__subsample': 1.0, 'classifier__reg_lambda': 1.5, 'classifier__reg_alpha': 0.1, 'classifier__n_estimators': 200, 'classifier__max_depth': 5, 'classifier__learning_rate': 0.01, 'classifier__gamma': 1, 'classifier__colsample_bytree': 0.6}\n",
      "Best CV ROC AUC: 0.5930\n"
     ]
    }
   ],
   "source": [
    "# Hyperparameter grid\n",
    "param_grid = {\n",
    "    'classifier__n_estimators': [100, 200, 500],\n",
    "    'classifier__max_depth': [3, 5, 7],\n",
    "    'classifier__learning_rate': [0.01, 0.1, 0.2],\n",
    "    'classifier__subsample': [0.6, 0.8, 1.0],\n",
    "    'classifier__colsample_bytree': [0.6, 0.8, 1.0],\n",
    "    'classifier__gamma': [0, 1, 5],\n",
    "    'classifier__reg_alpha': [0, 0.01, 0.1],\n",
    "    'classifier__reg_lambda': [1, 1.5, 2]\n",
    "}\n",
    "\n",
    "# Initialize XGBoost classifier\n",
    "xgb_clf = XGBClassifier(\n",
    "    scale_pos_weight = 7/3, #based on the class imbalance\n",
    "    use_label_encoder=False,\n",
    "    eval_metric='logloss',\n",
    "    random_state=rs\n",
    ")\n",
    "\n",
    "\n",
    "# Randomized search\n",
    "random_search_xgb = RandomizedSearchCV(\n",
    "    estimator=xgb_clf,\n",
    "    param_distributions=param_grid,\n",
    "    n_iter=5,\n",
    "    scoring='roc_auc',\n",
    "    n_jobs=-1,\n",
    "    cv=cv,\n",
    "    verbose=0,\n",
    "    random_state=rs\n",
    ")\n",
    "\n",
    "# Fit the model\n",
    "random_search_xgb.fit(X_train, y_train)\n",
    "\n",
    "# Best parameters\n",
    "print(\"Best parameters found:\")\n",
    "print(random_search_xgb.best_params_)\n",
    "print(f\"Best CV ROC AUC: {random_search_xgb.best_score_:.4f}\")"
   ]
  },
  {
   "cell_type": "markdown",
   "metadata": {},
   "source": [
    "## Best models Results "
   ]
  },
  {
   "cell_type": "markdown",
   "metadata": {},
   "source": [
    "### Logistic regression"
   ]
  },
  {
   "cell_type": "code",
   "execution_count": 26,
   "metadata": {},
   "outputs": [
    {
     "name": "stdout",
     "output_type": "stream",
     "text": [
      "Logistic Regression Test Results:\n",
      "Accuracy: 0.6153\n",
      "ROC AUC: 0.5925\n",
      "Classification Report:\n",
      "------------------------------------------------------\n",
      "              precision    recall  f1-score   support\n",
      "\n",
      "           0       0.74      0.69      0.71     57589\n",
      "           1       0.39      0.46      0.42     25165\n",
      "\n",
      "    accuracy                           0.62     82754\n",
      "   macro avg       0.56      0.57      0.57     82754\n",
      "weighted avg       0.63      0.62      0.62     82754\n",
      "\n",
      "------------------------------------------------------\n"
     ]
    },
    {
     "data": {
      "image/png": "[encoded data removed]",
      "text/plain": [
       "<Figure size 432x288 with 1 Axes>"
      ]
     },
     "metadata": {
      "needs_background": "light"
     },
     "output_type": "display_data"
    }
   ],
   "source": [
    "best_lr = random_search_lr.best_estimator_\n",
    "\n",
    "# Predict on the test set\n",
    "y_pred_lr = best_lr.predict(X_test)\n",
    "y_proba_lr = best_lr.predict_proba(X_test)[:, 1]\n",
    "\n",
    "# Evaluation metrics\n",
    "accuracy_lr = accuracy_score(y_test, y_pred_lr)\n",
    "roc_auc_lr = roc_auc_score(y_test, y_proba_lr)\n",
    "\n",
    "print(\"Logistic Regression Test Results:\")\n",
    "print(f\"Accuracy: {accuracy_lr:.4f}\")\n",
    "print(f\"ROC AUC: {roc_auc_lr:.4f}\")\n",
    "print(\"Classification Report:\")\n",
    "print('------------------------------------------------------')\n",
    "print(classification_report(y_test, y_pred_lr))\n",
    "print('------------------------------------------------------')\n",
    "cm = confusion_matrix(y_test, y_pred_lr)\n",
    "plot_confusion_matrix(cm, ['No', 'Yes'])\n"
   ]
  },
  {
   "cell_type": "markdown",
   "metadata": {},
   "source": [
    "### Decision Tree"
   ]
  },
  {
   "cell_type": "code",
   "execution_count": 23,
   "metadata": {},
   "outputs": [
    {
     "name": "stdout",
     "output_type": "stream",
     "text": [
      "Decision Tree Test Results:\n",
      "Accuracy: 0.5725\n",
      "ROC AUC: 0.5929\n",
      "Classification Report:\n",
      "------------------------------------------------------\n",
      "              precision    recall  f1-score   support\n",
      "\n",
      "           0       0.75      0.58      0.65     57589\n",
      "           1       0.37      0.55      0.44     25165\n",
      "\n",
      "    accuracy                           0.57     82754\n",
      "   macro avg       0.56      0.57      0.55     82754\n",
      "weighted avg       0.63      0.57      0.59     82754\n",
      "\n",
      "------------------------------------------------------\n"
     ]
    },
    {
     "data": {
      "image/png": "[encoded data removed]",
      "text/plain": [
       "<Figure size 432x288 with 1 Axes>"
      ]
     },
     "metadata": {
      "needs_background": "light"
     },
     "output_type": "display_data"
    }
   ],
   "source": [
    "best_dt = random_search_dt.best_estimator_\n",
    "\n",
    "# Predict on the test set\n",
    "y_pred_dt = best_dt.predict(X_test)\n",
    "y_proba_dt = best_dt.predict_proba(X_test)[:, 1]\n",
    "\n",
    "# Evaluation metrics\n",
    "accuracy_dt = accuracy_score(y_test, y_pred_dt)\n",
    "roc_auc_dt = roc_auc_score(y_test, y_proba_dt)\n",
    "\n",
    "print(\"Decision Tree Test Results:\")\n",
    "print(f\"Accuracy: {accuracy_dt:.4f}\")\n",
    "print(f\"ROC AUC: {roc_auc_dt:.4f}\")\n",
    "print(\"Classification Report:\")\n",
    "print('------------------------------------------------------')\n",
    "print(classification_report(y_test, y_pred_dt))\n",
    "print('------------------------------------------------------')\n",
    "cm = confusion_matrix(y_test, y_pred_dt)\n",
    "plot_confusion_matrix(cm, ['No', 'Yes'])\n",
    "\n"
   ]
  },
  {
   "cell_type": "markdown",
   "metadata": {},
   "source": [
    "### Random Forest"
   ]
  },
  {
   "cell_type": "code",
   "execution_count": 24,
   "metadata": {},
   "outputs": [
    {
     "name": "stdout",
     "output_type": "stream",
     "text": [
      "Random Forest Test Results:\n",
      "Accuracy: 0.6154\n",
      "ROC AUC: 0.5973\n",
      "Classification Report:\n",
      "------------------------------------------------------\n",
      "              precision    recall  f1-score   support\n",
      "\n",
      "           0       0.74      0.69      0.71     57589\n",
      "           1       0.39      0.46      0.42     25165\n",
      "\n",
      "    accuracy                           0.62     82754\n",
      "   macro avg       0.56      0.57      0.57     82754\n",
      "weighted avg       0.63      0.62      0.62     82754\n",
      "\n",
      "------------------------------------------------------\n"
     ]
    },
    {
     "data": {
      "image/png": "[encoded data removed]",
      "text/plain": [
       "<Figure size 432x288 with 1 Axes>"
      ]
     },
     "metadata": {
      "needs_background": "light"
     },
     "output_type": "display_data"
    }
   ],
   "source": [
    "best_rf = random_search_rf.best_estimator_\n",
    "\n",
    "# Predict on the test set\n",
    "y_pred_rf = best_rf.predict(X_test)\n",
    "y_proba_rf = best_rf.predict_proba(X_test)[:, 1]\n",
    "\n",
    "# Evaluation metrics\n",
    "accuracy_rf = accuracy_score(y_test, y_pred_rf)\n",
    "roc_auc_rf = roc_auc_score(y_test, y_proba_rf)\n",
    "\n",
    "print(\"Random Forest Test Results:\")\n",
    "print(f\"Accuracy: {accuracy_rf:.4f}\")\n",
    "print(f\"ROC AUC: {roc_auc_rf:.4f}\")\n",
    "print(\"Classification Report:\")\n",
    "print('------------------------------------------------------')\n",
    "print(classification_report(y_test, y_pred_rf))\n",
    "print('------------------------------------------------------')\n",
    "cm = confusion_matrix(y_test, y_pred_rf)\n",
    "plot_confusion_matrix(cm, ['No', 'Yes'])\n"
   ]
  },
  {
   "cell_type": "markdown",
   "metadata": {},
   "source": [
    "### SVM"
   ]
  },
  {
   "cell_type": "code",
   "execution_count": null,
   "metadata": {},
   "outputs": [],
   "source": [
    "best_svm = random_search_svm.best_estimator_\n",
    "\n",
    "# Predict on the test set\n",
    "y_pred_svm = best_svm.predict(X_test)\n",
    "y_proba_svm = best_svm.predict_proba(X_test)[:, 1]\n",
    "\n",
    "# Evaluation metrics\n",
    "accuracy_svm = accuracy_score(y_test, y_pred_svm)\n",
    "roc_auc_svm = roc_auc_score(y_test, y_proba_svm)\n",
    "\n",
    "print(\"SVM Test Results:\")\n",
    "print(f\"Accuracy: {accuracy_svm:.4f}\")\n",
    "print(f\"ROC AUC: {roc_auc_svm:.4f}\")\n",
    "print(\"Classification Report:\")\n",
    "print('------------------------------------------------------')\n",
    "print(classification_report(y_test, y_pred_svm))\n",
    "print('------------------------------------------------------')\n",
    "cm = confusion_matrix(y_test, y_pred_svm)\n",
    "plot_confusion_matrix(cm, ['No', 'Yes'])\n",
    "\n"
   ]
  },
  {
   "cell_type": "markdown",
   "metadata": {},
   "source": [
    "### XGBoost"
   ]
  },
  {
   "cell_type": "code",
   "execution_count": 25,
   "metadata": {},
   "outputs": [
    {
     "name": "stdout",
     "output_type": "stream",
     "text": [
      "Logistic Regression Test Results:\n",
      "Accuracy: 0.5561\n",
      "ROC AUC: 0.5939\n",
      "Classification Report:\n",
      "------------------------------------------------------\n",
      "              precision    recall  f1-score   support\n",
      "\n",
      "           0       0.75      0.54      0.63     57589\n",
      "           1       0.36      0.60      0.45     25165\n",
      "\n",
      "    accuracy                           0.56     82754\n",
      "   macro avg       0.56      0.57      0.54     82754\n",
      "weighted avg       0.63      0.56      0.57     82754\n",
      "\n",
      "------------------------------------------------------\n"
     ]
    },
    {
     "data": {
      "image/png": "[encoded data removed]",
      "text/plain": [
       "<Figure size 432x288 with 1 Axes>"
      ]
     },
     "metadata": {
      "needs_background": "light"
     },
     "output_type": "display_data"
    }
   ],
   "source": [
    "best_lr = random_search_xgb.best_estimator_\n",
    "\n",
    "# Predict on the test set\n",
    "y_pred_lr = best_lr.predict(X_test)\n",
    "y_proba_lr = best_lr.predict_proba(X_test)[:, 1]\n",
    "\n",
    "# Evaluation metrics\n",
    "accuracy_lr = accuracy_score(y_test, y_pred_lr)\n",
    "roc_auc_lr = roc_auc_score(y_test, y_proba_lr)\n",
    "\n",
    "print(\"Logistic Regression Test Results:\")\n",
    "print(f\"Accuracy: {accuracy_lr:.4f}\")\n",
    "print(f\"ROC AUC: {roc_auc_lr:.4f}\")\n",
    "print(\"Classification Report:\")\n",
    "print('------------------------------------------------------')\n",
    "print(classification_report(y_test, y_pred_lr))\n",
    "print('------------------------------------------------------')\n",
    "cm = confusion_matrix(y_test, y_pred_lr)\n",
    "plot_confusion_matrix(cm, ['No', 'Yes'])"
   ]
  },
  {
   "cell_type": "code",
   "execution_count": null,
   "metadata": {},
   "outputs": [],
   "source": []
  }
 ],
 "metadata": {
  "kernelspec": {
   "display_name": "Python 3",
   "language": "python",
   "name": "python3"
  },
  "language_info": {
   "codemirror_mode": {
    "name": "ipython",
    "version": 3
   },
   "file_extension": ".py",
   "mimetype": "text/x-python",
   "name": "python",
   "nbconvert_exporter": "python",
   "pygments_lexer": "ipython3",
   "version": "3.10.12"
  }
 },
 "nbformat": 4,
 "nbformat_minor": 2
}
